{
 "cells": [
  {
   "cell_type": "markdown",
   "metadata": {},
   "source": [
    "# Hastings Direct Takehome"
   ]
  },
  {
   "cell_type": "markdown",
   "metadata": {},
   "source": [
    "Background:\n",
    "Insurance companies make pricing decisions based on historical claims experience. The more recent the claims experience, the more predictive it may be of future losses. In the case of many large claims however, the exact cost is not known at the time of the accident. In fact, some cases take years to develop and settle. Companies sometimes learn that a claim is large several years after the accident took place.\n",
    "Your Underwriting Director believes it is possible to predict the ultimate value of individual claims well in advance by using FNOL (First Notification Of Loss) characteristics. This is the information recorded when the claim is first notified. If so, it would allow the company to know about future costs earlier and this information could be used to make better pricing decisions.\n",
    "You are given a historical dataset of a particular type of claim - head-on collisions - and are also told their individual current estimated values (labelled Incurred). (Given these claims are now a few years old, you can assume the incurred values are equal to the cost at which the claims will finally settle). \n",
    "\n",
    "Task breakdown:\n",
    "1) Using this data, build a model to predict the ultimate individual claim amounts\n",
    "\"2) Prepare a 15 minute presentation summarising your model. Your presentation should either be in notebook format or a more traditional slide deck.  If you opt for the slide deck approach, please make sure that you provide supporting code. \n",
    "Your presentation should cover the following aspects:\n",
    "- Issues identified with the data and how these were addressed\n",
    "- Data cleansing\n",
    "- Model specification and justification for selecting this model specification\n",
    "- Assessment of your model's accuracy and model diagnostics\n",
    "- Suggestions of how your model could be improved\n",
    "- Practical challenges for implementing your model\"\n",
    "\n",
    "Note: columns beginning with TP_* show the number of third parties involved in an accident (under a given category)"
   ]
  },
  {
   "cell_type": "markdown",
   "metadata": {},
   "source": [
    "# Modelling\n",
    "\n",
    "See notebook 01_ for data processing etc"
   ]
  },
  {
   "cell_type": "code",
   "execution_count": 1,
   "metadata": {},
   "outputs": [],
   "source": [
    "import pandas as pd\n",
    "import numpy as np\n",
    "from sklearn.model_selection import train_test_split\n",
    "import plotly.express as px\n",
    "from pprint import pprint\n",
    "from sklearn.linear_model import LinearRegression\n",
    "from sklearn.metrics import r2_score\n",
    "import statsmodels.api as sm\n",
    "import pickle\n",
    "\n",
    "pd.set_option('display.max_rows', 500)"
   ]
  },
  {
   "cell_type": "code",
   "execution_count": 2,
   "metadata": {},
   "outputs": [],
   "source": [
    "full_train = pd.read_parquet('data/full_train.parquet')\n",
    "full_test = pd.read_parquet('data/full_test.parquet')\n",
    "recent_train = pd.read_parquet('data/recent_train.parquet')\n",
    "recent_test = pd.read_parquet('data/recent_test.parquet')"
   ]
  },
  {
   "cell_type": "code",
   "execution_count": null,
   "metadata": {},
   "outputs": [],
   "source": [
    "def load_pickle(path):\n",
    "    with open(path, 'rb') as f:\n",
    "        return pickle.load(f)\n",
    "\n",
    "recent_count_encoders = load_pickle('data/recent_count_encoders.pkl')\n",
    "full_count_encoders = load_pickle('data/full_count_encoders.pkl')\n",
    "categories_grouped = load_pickle('data/categories_grouped.pkl')\n",
    "recent_cat_encoders = load_pickle('data/recent_cat_encoders.pkl')\n",
    "full_cat_encoders = load_pickle('data/full_cat_encoders.pkl')"
   ]
  },
  {
   "cell_type": "code",
   "execution_count": null,
   "metadata": {},
   "outputs": [],
   "source": []
  }
 ],
 "metadata": {
  "kernelspec": {
   "display_name": "hastings",
   "language": "python",
   "name": "python3"
  },
  "language_info": {
   "codemirror_mode": {
    "name": "ipython",
    "version": 3
   },
   "file_extension": ".py",
   "mimetype": "text/x-python",
   "name": "python",
   "nbconvert_exporter": "python",
   "pygments_lexer": "ipython3",
   "version": "3.11.6"
  }
 },
 "nbformat": 4,
 "nbformat_minor": 2
}
